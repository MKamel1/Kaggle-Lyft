{
 "cells": [
  {
   "cell_type": "code",
   "execution_count": 2,
   "metadata": {},
   "outputs": [],
   "source": [
    "import matplotlib.pyplot as plt\n",
    "from matplotlib import animation, rc\n",
    "rc('animation', html='jshtml')\n",
    "from IPython.display import HTML\n",
    "#from IPython.display import display, clear_output\n",
    "import PIL\n",
    "import numpy as np\n",
    "import pandas as pd\n",
    "import scipy as sp\n",
    "from l5kit.data import ChunkedDataset, LocalDataManager\n",
    "from l5kit.dataset import EgoDataset, AgentDataset\n",
    "from l5kit.rasterization import build_rasterizer\n",
    "from l5kit.configs import load_config_data\n",
    "from l5kit.visualization import draw_trajectory, TARGET_POINTS_COLOR\n",
    "from l5kit.geometry import transform_points\n",
    "from tqdm import tqdm\n",
    "from collections import Counter\n",
    "from l5kit.data import PERCEPTION_LABELS\n",
    "from prettytable import PrettyTable\n",
    "from IPython.display import display, clear_output\n",
    "import os\n",
    "from scipy import stats"
   ]
  },
  {
   "cell_type": "markdown",
   "metadata": {},
   "source": [
    "# Load Data"
   ]
  },
  {
   "cell_type": "code",
   "execution_count": 3,
   "metadata": {},
   "outputs": [
    {
     "data": {
      "text/plain": [
       "<l5kit.data.zarr_dataset.ChunkedDataset at 0x7f9bf5358610>"
      ]
     },
     "execution_count": 3,
     "metadata": {},
     "output_type": "execute_result"
    }
   ],
   "source": [
    "os.environ[\"L5KIT_DATA_FOLDER\"] = \"data\"\n",
    "cfg = load_config_data(\"examples/visualisation/visualisation_config.yaml\")\n",
    "# print(cfg)\n",
    "dm = LocalDataManager()\n",
    "dataset_path = dm.require('scenes/sample.zarr')\n",
    "zarr_dataset = ChunkedDataset(dataset_path)\n",
    "zarr_dataset.open()\n",
    "# print(zarr_dataset)"
   ]
  },
  {
   "cell_type": "code",
   "execution_count": 15,
   "metadata": {},
   "outputs": [],
   "source": [
    "rasterizer_dict = {}\n",
    "ego_dataset_dict = {}\n",
    "agent_dataset_dict = {}\n",
    "rasterizer_type_list = [\"py_satellite\", \"satellite_debug\", \"py_semantic\", \"semantic_debug\", \"box_debug\", \"stub_debug\"]\n",
    "\n",
    "for i, key in enumerate(rasterizer_type_list):\n",
    "    # print(\"key\", key)\n",
    "    cfg[\"raster_params\"][\"map_type\"] = key\n",
    "    rasterizer_dict[key] = build_rasterizer(cfg, dm)\n",
    "    ego_dataset_dict[key] = EgoDataset(cfg, zarr_dataset, rasterizer_dict[key])\n",
    "    agent_dataset_dict = AgentDataset(cfg, zarr_dataset, rasterizer_dict[key])"
   ]
  },
  {
   "cell_type": "markdown",
   "metadata": {},
   "source": [
    "# Create main data objects"
   ]
  },
  {
   "cell_type": "code",
   "execution_count": 7,
   "metadata": {},
   "outputs": [
    {
     "data": {
      "text/plain": [
       "\"<zarr.core.Array '/frames' (24838,) [('timestamp', '<i8'), ('agent_index_interval', '<i8', (2,)), ('traffic_light_faces_index_interval', '<i8', (2,)), ('ego_translation', '<f8', (3,)), ('ego_rotation', '<f8', (3, 3))] read-only>\""
      ]
     },
     "metadata": {},
     "output_type": "display_data"
    },
    {
     "data": {
      "text/plain": [
       "\"<zarr.core.Array '/agents' (1893736,) [('centroid', '<f8', (2,)), ('extent', '<f4', (3,)), ('yaw', '<f4'), ('velocity', '<f4', (2,)), ('track_id', '<u8'), ('label_probabilities', '<f4', (17,))] read-only>\""
      ]
     },
     "metadata": {},
     "output_type": "display_data"
    },
    {
     "data": {
      "text/plain": [
       "\"<zarr.core.Array '/scenes' (100,) [('frame_index_interval', '<i8', (2,)), ('host', '<U16'), ('start_time', '<i8'), ('end_time', '<i8')] read-only>\""
      ]
     },
     "metadata": {},
     "output_type": "display_data"
    },
    {
     "data": {
      "text/plain": [
       "\"<zarr.core.Array '/traffic_light_faces' (316008,) [('face_id', '<U16'), ('traffic_light_id', '<U16'), ('traffic_light_face_status', '<f4', (3,))] read-only>\""
      ]
     },
     "metadata": {},
     "output_type": "display_data"
    }
   ],
   "source": [
    "frames = zarr_dataset.frames\n",
    "agents = zarr_dataset.agents\n",
    "scenes = zarr_dataset.scenes\n",
    "tl_faces = zarr_dataset.tl_faces\n",
    "\n",
    "display(str(frames))\n",
    "display(str(agents))\n",
    "display(str(scenes))\n",
    "display(str(tl_faces))"
   ]
  },
  {
   "cell_type": "markdown",
   "metadata": {},
   "source": [
    "## `frames` object"
   ]
  },
  {
   "cell_type": "code",
   "execution_count": 43,
   "metadata": {},
   "outputs": [
    {
     "data": {
      "text/plain": [
       "<zarr.core.Array '/frames' (4039527,) [('timestamp', '<i8'), ('agent_index_interval', '<i8', (2,)), ('traffic_light_faces_index_interval', '<i8', (2,)), ('ego_translation', '<f8', (3,)), ('ego_rotation', '<f8', (3, 3))] read-only>"
      ]
     },
     "execution_count": 43,
     "metadata": {},
     "output_type": "execute_result"
    }
   ],
   "source": [
    "frames"
   ]
  },
  {
   "cell_type": "code",
   "execution_count": 14,
   "metadata": {},
   "outputs": [
    {
     "data": {
      "text/plain": [
       "(24838, 2)"
      ]
     },
     "metadata": {},
     "output_type": "display_data"
    },
    {
     "data": {
      "text/plain": [
       "(24838, 2)"
      ]
     },
     "metadata": {},
     "output_type": "display_data"
    },
    {
     "data": {
      "text/plain": [
       "(24838, 3)"
      ]
     },
     "metadata": {},
     "output_type": "display_data"
    },
    {
     "data": {
      "text/plain": [
       "(24838, 3, 3)"
      ]
     },
     "metadata": {},
     "output_type": "display_data"
    }
   ],
   "source": [
    "display(frames['agent_index_interval'].shape)\n",
    "display(frames['traffic_light_faces_index_interval'].shape)\n",
    "display(frames['ego_translation'].shape)\n",
    "display(frames['ego_rotation'].shape)\n"
   ]
  },
  {
   "cell_type": "code",
   "execution_count": 21,
   "metadata": {},
   "outputs": [
    {
     "data": {
      "text/plain": [
       "array([[      0,      38],\n",
       "       [     38,      85],\n",
       "       [     85,     142],\n",
       "       ...,\n",
       "       [1893593, 1893642],\n",
       "       [1893642, 1893690],\n",
       "       [1893690, 1893736]])"
      ]
     },
     "metadata": {},
     "output_type": "display_data"
    },
    {
     "data": {
      "text/plain": [
       "DescribeResult(nobs=24838, minmax=(array([ 0, 38]), array([1893690, 1893736])), mean=array([915997.46815364, 916073.7116515 ]), variance=array([3.06904671e+11, 3.06909373e+11]), skewness=array([0.03319856, 0.03318825]), kurtosis=array([-1.2168344 , -1.21681771]))"
      ]
     },
     "metadata": {},
     "output_type": "display_data"
    }
   ],
   "source": [
    "display(frames['agent_index_interval'],stats.describe(frames['agent_index_interval']))  "
   ]
  },
  {
   "cell_type": "code",
   "execution_count": 46,
   "metadata": {},
   "outputs": [
    {
     "data": {
      "text/plain": [
       "array([      0,      38,      85, ..., 1893593, 1893642, 1893690])"
      ]
     },
     "execution_count": 46,
     "metadata": {},
     "output_type": "execute_result"
    }
   ],
   "source": [
    "frames['agent_index_interval'][:,0]"
   ]
  },
  {
   "cell_type": "code",
   "execution_count": 48,
   "metadata": {},
   "outputs": [
    {
     "data": {
      "image/png": "[encoded data removed]",
      "text/plain": [
       "<Figure size 432x288 with 1 Axes>"
      ]
     },
     "metadata": {
      "needs_background": "light"
     },
     "output_type": "display_data"
    }
   ],
   "source": [
    "plt.plot(frames['agent_index_interval'][:,0])\n",
    "plt.plot(frames['agent_index_interval'][:,1])\n",
    "plt.ylabel('agent_index_interval')\n",
    "plt.show()"
   ]
  },
  {
   "cell_type": "code",
   "execution_count": 22,
   "metadata": {},
   "outputs": [
    {
     "data": {
      "text/plain": [
       "array([[     0,      0],\n",
       "       [     0,      0],\n",
       "       [     0,      0],\n",
       "       ...,\n",
       "       [315954, 315972],\n",
       "       [315972, 315990],\n",
       "       [315990, 316008]])"
      ]
     },
     "metadata": {},
     "output_type": "display_data"
    },
    {
     "data": {
      "text/plain": [
       "DescribeResult(nobs=24838, minmax=(array([ 0, 38]), array([1893690, 1893736])), mean=array([915997.46815364, 916073.7116515 ]), variance=array([3.06904671e+11, 3.06909373e+11]), skewness=array([0.03319856, 0.03318825]), kurtosis=array([-1.2168344 , -1.21681771]))"
      ]
     },
     "metadata": {},
     "output_type": "display_data"
    }
   ],
   "source": [
    "display(frames['traffic_light_faces_index_interval'],stats.describe(frames['agent_index_interval']))  "
   ]
  },
  {
   "cell_type": "code",
   "execution_count": 49,
   "metadata": {},
   "outputs": [
    {
     "data": {
      "image/png": "[encoded data removed]",
      "text/plain": [
       "<Figure size 432x288 with 1 Axes>"
      ]
     },
     "metadata": {
      "needs_background": "light"
     },
     "output_type": "display_data"
    }
   ],
   "source": [
    "plt.plot(frames['traffic_light_faces_index_interval'][:,0])\n",
    "plt.plot(frames['traffic_light_faces_index_interval'][:,1])\n",
    "plt.ylabel('traffic_light_faces_index_interval')\n",
    "plt.show()"
   ]
  },
  {
   "cell_type": "code",
   "execution_count": 23,
   "metadata": {},
   "outputs": [
    {
     "data": {
      "text/plain": [
       "array([[  680.61975098, -2183.32763672,   288.5411377 ],\n",
       "       [  681.18560791, -2182.42236328,   288.60812378],\n",
       "       [  681.76470947, -2181.52270508,   288.68093872],\n",
       "       ...,\n",
       "       [  277.59262085,    38.04537201,   269.52923584],\n",
       "       [  277.59915161,    38.03862   ,   269.53125   ],\n",
       "       [  277.59915161,    38.03862   ,   269.53125   ]])"
      ]
     },
     "metadata": {},
     "output_type": "display_data"
    },
    {
     "data": {
      "text/plain": [
       "DescribeResult(nobs=24838, minmax=(array([ 0, 38]), array([1893690, 1893736])), mean=array([915997.46815364, 916073.7116515 ]), variance=array([3.06904671e+11, 3.06909373e+11]), skewness=array([0.03319856, 0.03318825]), kurtosis=array([-1.2168344 , -1.21681771]))"
      ]
     },
     "metadata": {},
     "output_type": "display_data"
    }
   ],
   "source": [
    "display(frames['ego_translation'],stats.describe(frames['agent_index_interval']))  "
   ]
  },
  {
   "cell_type": "code",
   "execution_count": 52,
   "metadata": {},
   "outputs": [
    {
     "data": {
      "image/png": "[encoded data removed]",
      "text/plain": [
       "<Figure size 432x288 with 1 Axes>"
      ]
     },
     "metadata": {
      "needs_background": "light"
     },
     "output_type": "display_data"
    }
   ],
   "source": [
    "plt.plot(frames['ego_translation'][:,0])\n",
    "plt.plot(frames['ego_translation'][:,1])\n",
    "plt.plot(frames['ego_translation'][:,2])\n",
    "\n",
    "plt.ylabel('ego_translation')\n",
    "plt.show()"
   ]
  },
  {
   "cell_type": "code",
   "execution_count": 69,
   "metadata": {},
   "outputs": [
    {
     "data": {
      "image/png": "[encoded data removed]",
      "text/plain": [
       "<Figure size 432x288 with 3 Axes>"
      ]
     },
     "metadata": {
      "needs_background": "light"
     },
     "output_type": "display_data"
    }
   ],
   "source": [
    "fig, axes = plt.subplots(nrows=1, ncols=3)\n",
    "ax0, ax1, ax2 = axes.flatten()\n",
    "\n",
    "ax0.hist(frames['ego_translation'][:,0], histtype='bar', bins = 20)\n",
    "ax0.set_title('dim01')\n",
    "\n",
    "ax1.hist(frames['ego_translation'][:,1], histtype='bar',  bins = 20)\n",
    "ax1.set_title('dim02')\n",
    "\n",
    "ax2.hist(frames['ego_translation'][:,2], histtype='bar',  bins = 20)\n",
    "ax2.set_title('dim03')\n",
    "\n",
    "fig.tight_layout()\n",
    "plt.show()\n"
   ]
  },
  {
   "cell_type": "code",
   "execution_count": 24,
   "metadata": {},
   "outputs": [
    {
     "data": {
      "text/plain": [
       "array([[[ 5.46733141e-01, -8.37294340e-01,  4.59085545e-03],\n",
       "        [ 8.35287392e-01,  5.45025647e-01, -7.24018440e-02],\n",
       "        [ 5.81195243e-02,  4.34191711e-02,  9.97364998e-01]],\n",
       "\n",
       "       [[ 5.47081292e-01, -8.37059736e-01,  5.74750407e-03],\n",
       "        [ 8.35097909e-01,  5.45301139e-01, -7.25131184e-02],\n",
       "        [ 5.75636923e-02,  4.44702990e-02,  9.97350872e-01]],\n",
       "\n",
       "       [[ 5.47960341e-01, -8.36487472e-01,  5.30776521e-03],\n",
       "        [ 8.34573150e-01,  5.46253383e-01, -7.13788122e-02],\n",
       "        [ 5.68080992e-02,  4.35424782e-02,  9.97435153e-01]],\n",
       "\n",
       "       ...,\n",
       "\n",
       "       [[-6.85727835e-01, -7.27773726e-01,  1.10812755e-02],\n",
       "        [ 7.27855563e-01, -6.85606301e-01,  1.30493855e-02],\n",
       "        [-1.89960725e-03,  1.70138944e-02,  9.99853432e-01]],\n",
       "\n",
       "       [[-6.85727835e-01, -7.27758884e-01,  1.20140575e-02],\n",
       "        [ 7.27857947e-01, -6.85625672e-01,  1.18446993e-02],\n",
       "        [-3.82939004e-04,  1.68667678e-02,  9.99857664e-01]],\n",
       "\n",
       "       [[-6.85727835e-01, -7.27758884e-01,  1.20140575e-02],\n",
       "        [ 7.27857947e-01, -6.85625672e-01,  1.18446993e-02],\n",
       "        [-3.82939004e-04,  1.68667678e-02,  9.99857664e-01]]])"
      ]
     },
     "metadata": {},
     "output_type": "display_data"
    },
    {
     "data": {
      "text/plain": [
       "DescribeResult(nobs=24838, minmax=(array([ 0, 38]), array([1893690, 1893736])), mean=array([915997.46815364, 916073.7116515 ]), variance=array([3.06904671e+11, 3.06909373e+11]), skewness=array([0.03319856, 0.03318825]), kurtosis=array([-1.2168344 , -1.21681771]))"
      ]
     },
     "metadata": {},
     "output_type": "display_data"
    }
   ],
   "source": [
    "display(frames['ego_rotation'],stats.describe(frames['agent_index_interval']))  "
   ]
  },
  {
   "cell_type": "markdown",
   "metadata": {},
   "source": [
    "## `agents` object"
   ]
  },
  {
   "cell_type": "code",
   "execution_count": 65,
   "metadata": {},
   "outputs": [
    {
     "data": {
      "text/plain": [
       "<zarr.core.Array '/agents' (1893736,) [('centroid', '<f8', (2,)), ('extent', '<f4', (3,)), ('yaw', '<f4'), ('velocity', '<f4', (2,)), ('track_id', '<u8'), ('label_probabilities', '<f4', (17,))] read-only>"
      ]
     },
     "execution_count": 65,
     "metadata": {},
     "output_type": "execute_result"
    }
   ],
   "source": [
    "agents"
   ]
  },
  {
   "cell_type": "code",
   "execution_count": 66,
   "metadata": {},
   "outputs": [
    {
     "data": {
      "text/plain": [
       "(1893736, 2)"
      ]
     },
     "metadata": {},
     "output_type": "display_data"
    },
    {
     "data": {
      "text/plain": [
       "(1893736, 3)"
      ]
     },
     "metadata": {},
     "output_type": "display_data"
    },
    {
     "data": {
      "text/plain": [
       "(1893736,)"
      ]
     },
     "metadata": {},
     "output_type": "display_data"
    },
    {
     "data": {
      "text/plain": [
       "(1893736, 2)"
      ]
     },
     "metadata": {},
     "output_type": "display_data"
    },
    {
     "data": {
      "text/plain": [
       "(1893736,)"
      ]
     },
     "metadata": {},
     "output_type": "display_data"
    },
    {
     "data": {
      "text/plain": [
       "(1893736, 17)"
      ]
     },
     "metadata": {},
     "output_type": "display_data"
    }
   ],
   "source": [
    "display(agents['centroid'].shape)\n",
    "display(agents['extent'].shape)\n",
    "display(agents['yaw'].shape)\n",
    "display(agents['velocity'].shape)\n",
    "display(agents['track_id'].shape)\n",
    "display(agents['label_probabilities'].shape)"
   ]
  },
  {
   "cell_type": "code",
   "execution_count": 25,
   "metadata": {},
   "outputs": [
    {
     "data": {
      "text/plain": [
       "array([[  665.03424072, -2207.51220703],\n",
       "       [  717.66125488, -2173.76000977],\n",
       "       [  730.68139648, -2180.67895508],\n",
       "       ...,\n",
       "       [  227.16343689,    73.98806   ],\n",
       "       [  213.86314392,    75.33246613],\n",
       "       [  293.89666748,    37.07797241]])"
      ]
     },
     "metadata": {},
     "output_type": "display_data"
    },
    {
     "data": {
      "text/plain": [
       "DescribeResult(nobs=1893736, minmax=(array([-1111.62402344, -2527.59692383]), array([1179.10778809, 1538.58007812])), mean=array([ 336.96958476, -510.95629091]), variance=array([289721.02287455, 952730.00732782]), skewness=array([-1.21068585,  0.34476435]), kurtosis=array([ 0.29362059, -0.64710993]))"
      ]
     },
     "metadata": {},
     "output_type": "display_data"
    }
   ],
   "source": [
    "display(agents['centroid'],stats.describe(agents['centroid']))  "
   ]
  },
  {
   "cell_type": "code",
   "execution_count": 54,
   "metadata": {},
   "outputs": [
    {
     "data": {
      "image/png": "[encoded data removed]",
      "text/plain": [
       "<Figure size 432x288 with 1 Axes>"
      ]
     },
     "metadata": {
      "needs_background": "light"
     },
     "output_type": "display_data"
    }
   ],
   "source": [
    "plt.plot(agents['centroid'][:,0])\n",
    "plt.plot(agents['centroid'][:,1])\n",
    "\n",
    "plt.ylabel('ego_translation')\n",
    "plt.show()"
   ]
  },
  {
   "cell_type": "code",
   "execution_count": 71,
   "metadata": {},
   "outputs": [
    {
     "data": {
      "image/png": "[encoded data removed]",
      "text/plain": [
       "<Figure size 432x288 with 2 Axes>"
      ]
     },
     "metadata": {
      "needs_background": "light"
     },
     "output_type": "display_data"
    }
   ],
   "source": [
    "fig, axes = plt.subplots(nrows=1, ncols=2)\n",
    "ax0, ax1 = axes.flatten()\n",
    "\n",
    "ax0.hist(agents['centroid'][:,0], histtype='bar', bins = 20)\n",
    "ax0.set_title('dim01')\n",
    "\n",
    "ax1.hist(agents['centroid'][:,1], histtype='bar',  bins = 20)\n",
    "ax1.set_title('dim02')\n",
    "\n",
    "\n",
    "fig.tight_layout()\n",
    "plt.show()\n"
   ]
  },
  {
   "cell_type": "code",
   "execution_count": 26,
   "metadata": {},
   "outputs": [
    {
     "data": {
      "text/plain": [
       "array([[ 4.3913283 ,  1.8138304 ,  1.5909758 ],\n",
       "       [ 5.150925  ,  1.9530917 ,  2.04021   ],\n",
       "       [ 2.9482825 ,  1.4842174 ,  1.1125067 ],\n",
       "       ...,\n",
       "       [ 2.024245  ,  0.3544109 ,  0.8435698 ],\n",
       "       [ 0.51277804,  1.2809446 ,  1.1334285 ],\n",
       "       [ 6.1831617 , 20.55534   ,  1.9852563 ]], dtype=float32)"
      ]
     },
     "metadata": {},
     "output_type": "display_data"
    },
    {
     "data": {
      "text/plain": [
       "DescribeResult(nobs=1893736, minmax=(array([0.00122785, 0.00101208, 0.00396568], dtype=float32), array([43.27387 , 34.118965,  4.470044], dtype=float32)), mean=array([1.7873503, 1.4478683, 1.0951946], dtype=float32), variance=array([3.8989289 , 3.6968918 , 0.27959338], dtype=float32), skewness=array([3.343305  , 6.219854  , 0.23232752], dtype=float32), kurtosis=array([21.682962 , 53.15262  , -0.3010471], dtype=float32))"
      ]
     },
     "metadata": {},
     "output_type": "display_data"
    }
   ],
   "source": [
    "display(agents['extent'],stats.describe(agents['extent']))  "
   ]
  },
  {
   "cell_type": "code",
   "execution_count": 55,
   "metadata": {},
   "outputs": [
    {
     "data": {
      "image/png": "[encoded data removed]",
      "text/plain": [
       "<Figure size 432x288 with 1 Axes>"
      ]
     },
     "metadata": {
      "needs_background": "light"
     },
     "output_type": "display_data"
    }
   ],
   "source": [
    "plt.plot(agents['extent'][:,0])\n",
    "plt.plot(agents['extent'][:,1])\n",
    "plt.plot(agents['extent'][:,2])\n",
    "\n",
    "plt.ylabel('extent')\n",
    "plt.show()"
   ]
  },
  {
   "cell_type": "code",
   "execution_count": 72,
   "metadata": {},
   "outputs": [
    {
     "data": {
      "image/png": "[encoded data removed]",
      "text/plain": [
       "<Figure size 432x288 with 3 Axes>"
      ]
     },
     "metadata": {
      "needs_background": "light"
     },
     "output_type": "display_data"
    }
   ],
   "source": [
    "fig, axes = plt.subplots(nrows=1, ncols=3)\n",
    "ax0, ax1, ax2 = axes.flatten()\n",
    "\n",
    "ax0.hist(agents['extent'][:,0], histtype='bar', bins = 20)\n",
    "ax0.set_title('dim01')\n",
    "\n",
    "ax1.hist(agents['extent'][:,1], histtype='bar',  bins = 20)\n",
    "ax1.set_title('dim02')\n",
    "\n",
    "ax2.hist(agents['extent'][:,2], histtype='bar',  bins = 20)\n",
    "ax2.set_title('dim03')\n",
    "\n",
    "fig.tight_layout()\n",
    "plt.show()\n"
   ]
  },
  {
   "cell_type": "code",
   "execution_count": 27,
   "metadata": {},
   "outputs": [
    {
     "data": {
      "text/plain": [
       "array([ 1.0166751, -0.783224 , -0.321747 , ...,  0.9426058, -0.8095717,\n",
       "        0.7302229], dtype=float32)"
      ]
     },
     "metadata": {},
     "output_type": "display_data"
    },
    {
     "data": {
      "text/plain": [
       "DescribeResult(nobs=1893736, minmax=(-3.1415882, 3.1415925), mean=0.5978983, variance=1.3702791, skewness=-0.7967497706413269, kurtosis=0.793039374252527)"
      ]
     },
     "metadata": {},
     "output_type": "display_data"
    }
   ],
   "source": [
    "display(agents['yaw'],stats.describe(agents['yaw']))  "
   ]
  },
  {
   "cell_type": "code",
   "execution_count": 56,
   "metadata": {},
   "outputs": [
    {
     "data": {
      "image/png": "[encoded data removed]",
      "text/plain": [
       "<Figure size 432x288 with 1 Axes>"
      ]
     },
     "metadata": {
      "needs_background": "light"
     },
     "output_type": "display_data"
    }
   ],
   "source": [
    "plt.plot(agents['yaw'])\n",
    "\n",
    "plt.ylabel('yaw')\n",
    "plt.show()"
   ]
  },
  {
   "cell_type": "code",
   "execution_count": 79,
   "metadata": {},
   "outputs": [
    {
     "data": {
      "image/png": "[encoded data removed]",
      "text/plain": [
       "<Figure size 432x288 with 1 Axes>"
      ]
     },
     "metadata": {
      "needs_background": "light"
     },
     "output_type": "display_data"
    }
   ],
   "source": [
    "fig, ax0 = plt.subplots()\n",
    "\n",
    "ax0.hist(agents['yaw'], histtype='bar', bins = 30)\n",
    "ax0.set_title('dim01')\n",
    "\n",
    "\n",
    "fig.tight_layout()\n",
    "plt.show()\n"
   ]
  },
  {
   "cell_type": "code",
   "execution_count": 28,
   "metadata": {},
   "outputs": [
    {
     "data": {
      "text/plain": [
       "array([[ 0.        ,  0.        ],\n",
       "       [ 0.        ,  0.        ],\n",
       "       [ 0.        ,  0.        ],\n",
       "       ...,\n",
       "       [-0.09165736,  3.9186544 ],\n",
       "       [ 0.        ,  0.        ],\n",
       "       [ 0.        ,  0.        ]], dtype=float32)"
      ]
     },
     "metadata": {},
     "output_type": "display_data"
    },
    {
     "data": {
      "text/plain": [
       "DescribeResult(nobs=1893736, minmax=(array([-30.488567, -25.589865], dtype=float32), array([24.13901 , 27.416363], dtype=float32)), mean=array([-0.00771686,  0.01283908], dtype=float32), variance=array([4.992083, 5.921431], dtype=float32), skewness=array([-0.14804219,  0.11428794], dtype=float32), kurtosis=array([16.620152, 17.446934], dtype=float32))"
      ]
     },
     "metadata": {},
     "output_type": "display_data"
    }
   ],
   "source": [
    "display(agents['velocity'],stats.describe(agents['velocity']))  "
   ]
  },
  {
   "cell_type": "code",
   "execution_count": 57,
   "metadata": {},
   "outputs": [
    {
     "data": {
      "image/png": "[encoded data removed]",
      "text/plain": [
       "<Figure size 432x288 with 1 Axes>"
      ]
     },
     "metadata": {
      "needs_background": "light"
     },
     "output_type": "display_data"
    }
   ],
   "source": [
    "plt.plot(agents['velocity'][:,0])\n",
    "plt.plot(agents['velocity'][:,1])\n",
    "\n",
    "plt.ylabel('velocity')\n",
    "plt.show()"
   ]
  },
  {
   "cell_type": "code",
   "execution_count": 81,
   "metadata": {},
   "outputs": [
    {
     "data": {
      "image/png": "[encoded data removed]",
      "text/plain": [
       "<Figure size 432x288 with 2 Axes>"
      ]
     },
     "metadata": {
      "needs_background": "light"
     },
     "output_type": "display_data"
    }
   ],
   "source": [
    "fig, axes = plt.subplots(nrows=1, ncols=2)\n",
    "ax0, ax1 = axes.flatten()\n",
    "\n",
    "ax0.hist(agents['velocity'][:,0], histtype='bar', bins = 30)\n",
    "ax0.set_title('dim01')\n",
    "\n",
    "ax1.hist(agents['velocity'][:,1], histtype='bar',  bins = 30)\n",
    "ax1.set_title('dim02')\n",
    "\n",
    "\n",
    "fig.tight_layout()\n",
    "plt.show()"
   ]
  },
  {
   "cell_type": "code",
   "execution_count": 29,
   "metadata": {},
   "outputs": [
    {
     "data": {
      "text/plain": [
       "array([   1,    2,    3, ..., 1481, 1483, 1485], dtype=uint64)"
      ]
     },
     "metadata": {},
     "output_type": "display_data"
    },
    {
     "data": {
      "text/plain": [
       "DescribeResult(nobs=1893736, minmax=(1, 2547), mean=579.6444097804551, variance=242477.28710599928, skewness=0.8003135039285614, kurtosis=-0.10558233520525828)"
      ]
     },
     "metadata": {},
     "output_type": "display_data"
    }
   ],
   "source": [
    "display(agents['track_id'],stats.describe(agents['track_id']))  "
   ]
  },
  {
   "cell_type": "code",
   "execution_count": 58,
   "metadata": {},
   "outputs": [
    {
     "data": {
      "image/png": "[encoded data removed]",
      "text/plain": [
       "<Figure size 432x288 with 1 Axes>"
      ]
     },
     "metadata": {
      "needs_background": "light"
     },
     "output_type": "display_data"
    }
   ],
   "source": [
    "plt.plot(agents['track_id'])\n",
    "plt.ylabel('track_id')\n",
    "plt.show()\n",
    "\n"
   ]
  },
  {
   "cell_type": "code",
   "execution_count": 82,
   "metadata": {},
   "outputs": [
    {
     "data": {
      "image/png": "[encoded data removed]",
      "text/plain": [
       "<Figure size 432x288 with 1 Axes>"
      ]
     },
     "metadata": {
      "needs_background": "light"
     },
     "output_type": "display_data"
    }
   ],
   "source": [
    "fig, ax0 = plt.subplots()\n",
    "\n",
    "ax0.hist(agents['track_id'], histtype='bar', bins = 30)\n",
    "ax0.set_title('dim01')\n",
    "\n",
    "\n",
    "fig.tight_layout()\n",
    "plt.show()\n"
   ]
  },
  {
   "cell_type": "markdown",
   "metadata": {},
   "source": [
    "## `scenes` object"
   ]
  },
  {
   "cell_type": "code",
   "execution_count": 67,
   "metadata": {},
   "outputs": [
    {
     "data": {
      "text/plain": [
       "<zarr.core.Array '/scenes' (100,) [('frame_index_interval', '<i8', (2,)), ('host', '<U16'), ('start_time', '<i8'), ('end_time', '<i8')] read-only>"
      ]
     },
     "execution_count": 67,
     "metadata": {},
     "output_type": "execute_result"
    }
   ],
   "source": [
    "scenes"
   ]
  },
  {
   "cell_type": "code",
   "execution_count": 68,
   "metadata": {},
   "outputs": [
    {
     "data": {
      "text/plain": [
       "(100, 2)"
      ]
     },
     "metadata": {},
     "output_type": "display_data"
    },
    {
     "data": {
      "text/plain": [
       "(100,)"
      ]
     },
     "metadata": {},
     "output_type": "display_data"
    },
    {
     "data": {
      "text/plain": [
       "(100,)"
      ]
     },
     "metadata": {},
     "output_type": "display_data"
    },
    {
     "data": {
      "text/plain": [
       "(100,)"
      ]
     },
     "metadata": {},
     "output_type": "display_data"
    }
   ],
   "source": [
    "display(scenes['frame_index_interval'].shape)\n",
    "display(scenes['host'].shape)\n",
    "display(scenes['start_time'].shape)\n",
    "display(scenes['end_time'].shape)"
   ]
  },
  {
   "cell_type": "code",
   "execution_count": 30,
   "metadata": {},
   "outputs": [
    {
     "data": {
      "text/plain": [
       "array([[    0,   248],\n",
       "       [  248,   497],\n",
       "       [  497,   746],\n",
       "       [  746,   995],\n",
       "       [  995,  1244],\n",
       "       [ 1244,  1493],\n",
       "       [ 1493,  1742],\n",
       "       [ 1742,  1991],\n",
       "       [ 1991,  2240],\n",
       "       [ 2240,  2489],\n",
       "       [ 2489,  2738],\n",
       "       [ 2738,  2987],\n",
       "       [ 2987,  3236],\n",
       "       [ 3236,  3485],\n",
       "       [ 3485,  3734],\n",
       "       [ 3734,  3983],\n",
       "       [ 3983,  4232],\n",
       "       [ 4232,  4481],\n",
       "       [ 4481,  4730],\n",
       "       [ 4730,  4979],\n",
       "       [ 4979,  5228],\n",
       "       [ 5228,  5477],\n",
       "       [ 5477,  5725],\n",
       "       [ 5725,  5973],\n",
       "       [ 5973,  6221],\n",
       "       [ 6221,  6469],\n",
       "       [ 6469,  6717],\n",
       "       [ 6717,  6965],\n",
       "       [ 6965,  7213],\n",
       "       [ 7213,  7461],\n",
       "       [ 7461,  7709],\n",
       "       [ 7709,  7957],\n",
       "       [ 7957,  8205],\n",
       "       [ 8205,  8453],\n",
       "       [ 8453,  8701],\n",
       "       [ 8701,  8949],\n",
       "       [ 8949,  9197],\n",
       "       [ 9197,  9445],\n",
       "       [ 9445,  9693],\n",
       "       [ 9693,  9941],\n",
       "       [ 9941, 10189],\n",
       "       [10189, 10437],\n",
       "       [10437, 10685],\n",
       "       [10685, 10933],\n",
       "       [10933, 11182],\n",
       "       [11182, 11431],\n",
       "       [11431, 11680],\n",
       "       [11680, 11929],\n",
       "       [11929, 12177],\n",
       "       [12177, 12425],\n",
       "       [12425, 12673],\n",
       "       [12673, 12921],\n",
       "       [12921, 13169],\n",
       "       [13169, 13417],\n",
       "       [13417, 13665],\n",
       "       [13665, 13913],\n",
       "       [13913, 14161],\n",
       "       [14161, 14409],\n",
       "       [14409, 14657],\n",
       "       [14657, 14905],\n",
       "       [14905, 15153],\n",
       "       [15153, 15401],\n",
       "       [15401, 15649],\n",
       "       [15649, 15897],\n",
       "       [15897, 16145],\n",
       "       [16145, 16393],\n",
       "       [16393, 16641],\n",
       "       [16641, 16889],\n",
       "       [16889, 17137],\n",
       "       [17137, 17385],\n",
       "       [17385, 17633],\n",
       "       [17633, 17881],\n",
       "       [17881, 18129],\n",
       "       [18129, 18377],\n",
       "       [18377, 18625],\n",
       "       [18625, 18874],\n",
       "       [18874, 19123],\n",
       "       [19123, 19372],\n",
       "       [19372, 19621],\n",
       "       [19621, 19870],\n",
       "       [19870, 20118],\n",
       "       [20118, 20366],\n",
       "       [20366, 20614],\n",
       "       [20614, 20862],\n",
       "       [20862, 21110],\n",
       "       [21110, 21358],\n",
       "       [21358, 21607],\n",
       "       [21607, 21856],\n",
       "       [21856, 22105],\n",
       "       [22105, 22354],\n",
       "       [22354, 22603],\n",
       "       [22603, 22852],\n",
       "       [22852, 23101],\n",
       "       [23101, 23350],\n",
       "       [23350, 23598],\n",
       "       [23598, 23846],\n",
       "       [23846, 24094],\n",
       "       [24094, 24342],\n",
       "       [24342, 24590],\n",
       "       [24590, 24838]])"
      ]
     },
     "metadata": {},
     "output_type": "display_data"
    },
    {
     "data": {
      "text/plain": [
       "DescribeResult(nobs=100, minmax=(array([  0, 248]), array([24590, 24838])), mean=array([12298.48, 12546.86]), variance=array([51883075.40363637, 51881233.87919192]), skewness=array([-0.00046403, -0.00037891]), kurtosis=array([-1.19898191, -1.19900873]))"
      ]
     },
     "metadata": {},
     "output_type": "display_data"
    }
   ],
   "source": [
    "display(scenes['frame_index_interval'],stats.describe(scenes['frame_index_interval']))  "
   ]
  },
  {
   "cell_type": "code",
   "execution_count": 13,
   "metadata": {},
   "outputs": [
    {
     "data": {
      "text/plain": [
       "array(['host-a013', 'host-a013', 'host-a013', 'host-a013', 'host-a013',\n",
       "       'host-a013', 'host-a013', 'host-a013', 'host-a013', 'host-a013',\n",
       "       'host-a013', 'host-a013', 'host-a013', 'host-a013', 'host-a013',\n",
       "       'host-a013', 'host-a013', 'host-a013', 'host-a013', 'host-a013',\n",
       "       'host-a013', 'host-a013', 'host-a013', 'host-a013', 'host-a013',\n",
       "       'host-a013', 'host-a013', 'host-a013', 'host-a013', 'host-a013',\n",
       "       'host-a013', 'host-a013', 'host-a013', 'host-a013', 'host-a013',\n",
       "       'host-a013', 'host-a013', 'host-a013', 'host-a013', 'host-a013',\n",
       "       'host-a013', 'host-a013', 'host-a013', 'host-a013', 'host-a013',\n",
       "       'host-a013', 'host-a013', 'host-a013', 'host-a101', 'host-a101',\n",
       "       'host-a101', 'host-a101', 'host-a101', 'host-a101', 'host-a101',\n",
       "       'host-a101', 'host-a101', 'host-a101', 'host-a101', 'host-a101',\n",
       "       'host-a101', 'host-a101', 'host-a101', 'host-a101', 'host-a101',\n",
       "       'host-a101', 'host-a101', 'host-a101', 'host-a101', 'host-a101',\n",
       "       'host-a101', 'host-a101', 'host-a101', 'host-a101', 'host-a101',\n",
       "       'host-a101', 'host-a101', 'host-a101', 'host-a101', 'host-a101',\n",
       "       'host-a101', 'host-a101', 'host-a101', 'host-a101', 'host-a101',\n",
       "       'host-a101', 'host-a101', 'host-a101', 'host-a101', 'host-a101',\n",
       "       'host-a101', 'host-a101', 'host-a101', 'host-a101', 'host-a101',\n",
       "       'host-a101', 'host-a101', 'host-a101', 'host-a101', 'host-a101'],\n",
       "      dtype='<U16')"
      ]
     },
     "metadata": {},
     "output_type": "display_data"
    },
    {
     "data": {
      "text/plain": [
       "array(['host-a013', 'host-a101'], dtype='<U16')"
      ]
     },
     "metadata": {},
     "output_type": "display_data"
    }
   ],
   "source": [
    "display(scenes['host'])  \n",
    "display(np.unique(scenes['host']))"
   ]
  },
  {
   "cell_type": "code",
   "execution_count": 34,
   "metadata": {},
   "outputs": [
    {
     "data": {
      "text/plain": [
       "array([1572643684617362176, 1572643749559148288, 1572643774559148288,\n",
       "       1572643799559148288, 1572643824559148288, 1572643849559148288,\n",
       "       1572643874559148288, 1572643899559148288, 1572643924559148288,\n",
       "       1572643949559148288, 1572643974559148288, 1572643999559148288,\n",
       "       1572644024559148288, 1572644049559148288, 1572644074559148288,\n",
       "       1572644099559148288, 1572644124559148288, 1572644149559148288,\n",
       "       1572644174559148288, 1572644199559148288, 1572644224559148288,\n",
       "       1572644249559148288, 1572644318672167168, 1572644343672167168,\n",
       "       1572644439610481408, 1572644464610481408, 1572644489610481408,\n",
       "       1572644514610481408, 1572644539610481408, 1572644564610481408,\n",
       "       1572644589610481408, 1572644614610481408, 1572644639610481408,\n",
       "       1572644664610481408, 1572644689610481408, 1572644714610481408,\n",
       "       1572644739610481408, 1572644764610481408, 1572644816986979840,\n",
       "       1572644841986979840, 1572644866986979840, 1572644891986979840,\n",
       "       1572644916986979840, 1572644941986979840, 1572645026725150464,\n",
       "       1572645051725150464, 1572645076725150464, 1572645101725150464,\n",
       "       1571086539890067456, 1571086564890067456, 1571086589890067456,\n",
       "       1571086614890067456, 1571086639890067456, 1571086664890067456,\n",
       "       1571086689890067456, 1571086714890067456, 1571086739890067456,\n",
       "       1571086764890067456, 1571086789890067456, 1571086845291787776,\n",
       "       1571086870291787776, 1571086895291787776, 1571086969232371712,\n",
       "       1571087018832632832, 1571087043832632832, 1571087068832632832,\n",
       "       1571087172533298432, 1571087470014114816, 1571087495014114816,\n",
       "       1571087520014114816, 1571087545014114816, 1571087598734638080,\n",
       "       1571087623734638080, 1571087648734638080, 1571087673734638080,\n",
       "       1571087736955702016, 1571087761955702016, 1571087786955702016,\n",
       "       1571087811955702016, 1571087836955702016, 1571087882295097600,\n",
       "       1571087907295097600, 1571087967695307008, 1571844250006710272,\n",
       "       1571844275006710272, 1571844300006710272, 1571844350966284800,\n",
       "       1571844375966284800, 1571844400966284800, 1571844425966284800,\n",
       "       1571844450966284800, 1571844475966284800, 1571844500966284800,\n",
       "       1571844525966284800, 1571844585505151232, 1571844610505151232,\n",
       "       1571844635505151232, 1571844660505151232, 1571844685505151232,\n",
       "       1571844710505151232])"
      ]
     },
     "metadata": {},
     "output_type": "display_data"
    },
    {
     "data": {
      "text/plain": [
       "DescribeResult(nobs=100, minmax=(1571086539890067456, 1572645101725150464), mean=1.5719633898684303e+18, variance=4.986800997154398e+29, skewness=-0.24249281267294162, kurtosis=-1.7300273832362423)"
      ]
     },
     "metadata": {},
     "output_type": "display_data"
    }
   ],
   "source": [
    "display(scenes['start_time'],stats.describe(scenes['start_time']))  "
   ]
  },
  {
   "cell_type": "code",
   "execution_count": 35,
   "metadata": {},
   "outputs": [
    {
     "data": {
      "text/plain": [
       "array([1572643709617362176, 1572643774559148288, 1572643799559148288,\n",
       "       1572643824559148288, 1572643849559148288, 1572643874559148288,\n",
       "       1572643899559148288, 1572643924559148288, 1572643949559148288,\n",
       "       1572643974559148288, 1572643999559148288, 1572644024559148288,\n",
       "       1572644049559148288, 1572644074559148288, 1572644099559148288,\n",
       "       1572644124559148288, 1572644149559148288, 1572644174559148288,\n",
       "       1572644199559148288, 1572644224559148288, 1572644249559148288,\n",
       "       1572644274559148288, 1572644343672167168, 1572644368672167168,\n",
       "       1572644464610481408, 1572644489610481408, 1572644514610481408,\n",
       "       1572644539610481408, 1572644564610481408, 1572644589610481408,\n",
       "       1572644614610481408, 1572644639610481408, 1572644664610481408,\n",
       "       1572644689610481408, 1572644714610481408, 1572644739610481408,\n",
       "       1572644764610481408, 1572644789610481408, 1572644841986979840,\n",
       "       1572644866986979840, 1572644891986979840, 1572644916986979840,\n",
       "       1572644941986979840, 1572644966986979840, 1572645051725150464,\n",
       "       1572645076725150464, 1572645101725150464, 1572645126725150464,\n",
       "       1571086564890067456, 1571086589890067456, 1571086614890067456,\n",
       "       1571086639890067456, 1571086664890067456, 1571086689890067456,\n",
       "       1571086714890067456, 1571086739890067456, 1571086764890067456,\n",
       "       1571086789890067456, 1571086814890067456, 1571086870291787776,\n",
       "       1571086895291787776, 1571086920291787776, 1571086994232371712,\n",
       "       1571087043832632832, 1571087068832632832, 1571087093832632832,\n",
       "       1571087197533298432, 1571087495014114816, 1571087520014114816,\n",
       "       1571087545014114816, 1571087570014114816, 1571087623734638080,\n",
       "       1571087648734638080, 1571087673734638080, 1571087698734638080,\n",
       "       1571087761955702016, 1571087786955702016, 1571087811955702016,\n",
       "       1571087836955702016, 1571087861955702016, 1571087907295097600,\n",
       "       1571087932295097600, 1571087992695307008, 1571844275006710272,\n",
       "       1571844300006710272, 1571844325006710272, 1571844375966284800,\n",
       "       1571844400966284800, 1571844425966284800, 1571844450966284800,\n",
       "       1571844475966284800, 1571844500966284800, 1571844525966284800,\n",
       "       1571844550966284800, 1571844610505151232, 1571844635505151232,\n",
       "       1571844660505151232, 1571844685505151232, 1571844710505151232,\n",
       "       1571844735505151232])"
      ]
     },
     "metadata": {},
     "output_type": "display_data"
    },
    {
     "data": {
      "text/plain": [
       "DescribeResult(nobs=100, minmax=(1571086564890067456, 1572645126725150464), mean=1.5719634148684303e+18, variance=4.986800997154398e+29, skewness=-0.24249281267294162, kurtosis=-1.7300273832362423)"
      ]
     },
     "metadata": {},
     "output_type": "display_data"
    }
   ],
   "source": [
    "display(scenes['end_time'],stats.describe(scenes['end_time']))  "
   ]
  },
  {
   "cell_type": "markdown",
   "metadata": {},
   "source": [
    "## `tl_faces` object"
   ]
  },
  {
   "cell_type": "code",
   "execution_count": 8,
   "metadata": {},
   "outputs": [
    {
     "data": {
      "text/plain": [
       "<zarr.core.Array '/traffic_light_faces' (316008,) [('face_id', '<U16'), ('traffic_light_id', '<U16'), ('traffic_light_face_status', '<f4', (3,))] read-only>"
      ]
     },
     "execution_count": 8,
     "metadata": {},
     "output_type": "execute_result"
    }
   ],
   "source": [
    "tl_faces"
   ]
  },
  {
   "cell_type": "code",
   "execution_count": 9,
   "metadata": {},
   "outputs": [
    {
     "data": {
      "text/plain": [
       "(316008,)"
      ]
     },
     "metadata": {},
     "output_type": "display_data"
    },
    {
     "data": {
      "text/plain": [
       "(316008,)"
      ]
     },
     "metadata": {},
     "output_type": "display_data"
    },
    {
     "data": {
      "text/plain": [
       "(316008, 3)"
      ]
     },
     "metadata": {},
     "output_type": "display_data"
    }
   ],
   "source": [
    "display(tl_faces['face_id'].shape)\n",
    "display(tl_faces['traffic_light_id'].shape)\n",
    "display(tl_faces['traffic_light_face_status'].shape)"
   ]
  },
  {
   "cell_type": "code",
   "execution_count": 10,
   "metadata": {},
   "outputs": [
    {
     "data": {
      "text/plain": [
       "array(['xbVG', 'jutE', 'CDDo', ..., '16Ac', 'Wmr4', '16Ac'], dtype='<U16')"
      ]
     },
     "metadata": {},
     "output_type": "display_data"
    },
    {
     "data": {
      "text/plain": [
       "array(['++7C', '+C+9', '+IMm', '+IlQ', '+Y8k', '+Zo/', '+vGi', '/JTg',\n",
       "       '/MpV', '/NIJ', '0R2C', '0e+E', '0kHT', '15cS', '16Ac', '19IQ',\n",
       "       '1CZJ', '1EuM', '1GKi', '1eFh', '1wgG', '2SJF', '2gxN', '2hYz',\n",
       "       '35BX', '3f5k', '3mZw', '4jic', '50H4', '5Qxt', '5Rp8', '5Ueq',\n",
       "       '5Ulh', '5hxo', '62GG', '63+P', '64tI', '66yp', '6A5W', '75E5',\n",
       "       '7J3p', '7fNs', '7iuD', '82Zj', '8Pyb', '8gQQ', '8nGm', '8oxi',\n",
       "       '9+Ru', '95kG', '9bGo', 'A5zi', 'A9Ng', 'AAQ/', 'AGcF', 'AbX9',\n",
       "       'Ak84', 'BYPY', 'C/dE', 'CDDo', 'Cd6g', 'D0xj', 'D9GY', 'DAYq',\n",
       "       'DMti', 'DeII', 'Dm15', 'DnEU', 'DyJc', 'EOZP', 'Eyhn', 'FCSR',\n",
       "       'FG59', 'FGsm', 'FM10', 'Fndm', 'FqB1', 'GRKe', 'Gl2x', 'H/Q+',\n",
       "       'HBZs', 'HJGV', 'HLW8', 'HPZq', 'HWMB', 'IHnG', 'Ibe5', 'JN1t',\n",
       "       'JiFB', 'Jnpc', 'JuLu', 'K4eP', 'K7NR', 'K9Zd', 'KO4R', 'KPuo',\n",
       "       'KVun', 'Kc1Z', 'L8iO', 'M2Ag', 'M2zn', 'MFLI', 'MGkm', 'Mduj',\n",
       "       'MsjE', 'MwZN', 'MzSo', 'N0ns', 'N36h', 'NQfE', 'O5qn', 'OD0J',\n",
       "       'ORYI', 'OYqe', 'Om/P', 'Oq1h', 'Ot3', 'PBWh', 'PcMU', 'Q11q',\n",
       "       'QKii', 'R8b1', 'RghE', 'S/85', 'S0mR', 'SBED', 'Sf92', 'TXp2',\n",
       "       'TmLm', 'Tv5S', 'Tzg/', 'UF2p', 'UOy1', 'UPkN', 'UbfF', 'UxP9',\n",
       "       'UzaE', 'V1Gx', 'V499', 'VD0C', 'VuAu', 'WmjH', 'Wmr4', 'WuDm',\n",
       "       'X+zh', 'X43/', 'XPtC', 'XURe', 'Xbn9', 'Y2GM', 'Y8Vq', 'YSEN',\n",
       "       'Ym+f', 'Yopg', 'ZpKQ', 'a0iP', 'aAQ+', 'agu3', 'ao85', 'ayyJ',\n",
       "       'b1lz', 'b8bJ', 'bhPu', 'bjps', 'bkH/', 'bkYl', 'bmdG', 'bsjz',\n",
       "       'c1hG', 'cOZg', 'cRL1', 'clvV', 'd1GB', 'dEcF', 'dJ0V', 'dK4y',\n",
       "       'dTRm', 'ddhJ', 'dtRI', 'dvfu', 'eeoD', 'fQep', 'fRjD', 'fUli',\n",
       "       'fpD3', 'g4Ty', 'ghOT', 'gurE', 'hu1M', 'hxGi', 'hxPE', 'i8LP',\n",
       "       'jeDY', 'jutE', 'k+WY', 'kQln', 'kRgW', 'kTT6', 'kWn0', 'kaOh',\n",
       "       'kbrn', 'krCH', 'lrbj', 'm/rO', 'm3fR', 'mVuP', 'mfrf', 'mqhk',\n",
       "       'mxWD', 'nQhO', 'o0wx', 'o2ak', 'o7+/', 'oVYJ', 'oate', 'ot3/',\n",
       "       'pQRu', 'pRAn', 'pTFI', 'pZL1', 'pjDM', 'pnvB', 'pyRj', 'q7Ai',\n",
       "       'qQ4x', 'qSXX', 'qiJI', 'r3TC', 'r5cN', 'rHg2', 'rZgr', 'rf0Y',\n",
       "       'rjJs', 'sI9P', 't44W', 'u7Jh', 'ul7z', 'uwh3', 'vMJ3', 'vRqs',\n",
       "       'vbRc', 'veuj', 'vuem', 'wQxY', 'wsA+', 'xI80', 'xVZm', 'xbVG',\n",
       "       'xggH', 'y+HY', 'y9A3', 'yLMh', 'yYqI', 'zj5w', 'zqnW'],\n",
       "      dtype='<U16')"
      ]
     },
     "metadata": {},
     "output_type": "display_data"
    }
   ],
   "source": [
    "display(tl_faces['face_id'])\n",
    "display(np.unique(tl_faces['face_id']))"
   ]
  },
  {
   "cell_type": "code",
   "execution_count": 11,
   "metadata": {},
   "outputs": [
    {
     "data": {
      "text/plain": [
       "array(['/ggb', '/ggb', '/ggb', ..., 'yYeP', 'yYeP', 'yYeP'], dtype='<U16')"
      ]
     },
     "metadata": {},
     "output_type": "display_data"
    },
    {
     "data": {
      "text/plain": [
       "array(['/ggb', '0E3j', '2mol', '2yCV', '3VcD', '3WL8', '3YQd', '3eWK',\n",
       "       '4AM3', '4Xis', '4nUd', '5Ike', '8qGJ', '9j54', '9sh4', 'AETt',\n",
       "       'APRT', 'Ae1d', 'CkJa', 'CqSo', 'DDUl', 'EnjI', 'FlE6', 'H6SN',\n",
       "       'HW8C', 'Ku83', 'LEdD', 'LL1i', 'LhR9', 'MfzU', 'NTTe', 'O++3',\n",
       "       'Pdat', 'QEpZ', 'R584', 'RDa4', 'RR43', 'RjTd', 'RsPp', 'STkk',\n",
       "       'T4tC', 'UWVz', 'VEcT', 'VUk/', 'XSAD', 'YCly', 'YTDn', 'Ya58',\n",
       "       'a7+8', 'aBqp', 'aHR8', 'aLv7', 'ai54', 'axuZ', 'b8F3', 'ciok',\n",
       "       'cvA3', 'cyCW', 'ePt3', 'gwNT', 'h0Eo', 'h4rU', 'hc0L', 'j9IT',\n",
       "       'jI/X', 'jzLD', 'lU4X', 'lZcz', 'ls3Z', 'm558', 'mBh/', 'nuVl',\n",
       "       'o39e', 'ox+T', 'pmaD', 'qWWK', 'rO/q', 'tuOM', 'umZo', 'uz2Z',\n",
       "       'vW1d', 'wBXk', 'yYeP', 'yg28', 'zwm4'], dtype='<U16')"
      ]
     },
     "metadata": {},
     "output_type": "display_data"
    }
   ],
   "source": [
    "display(tl_faces['traffic_light_id'])\n",
    "display(np.unique(tl_faces['traffic_light_id']))"
   ]
  },
  {
   "cell_type": "code",
   "execution_count": 12,
   "metadata": {},
   "outputs": [
    {
     "data": {
      "text/plain": [
       "array([[0., 0., 1.],\n",
       "       [0., 0., 1.],\n",
       "       [0., 0., 1.],\n",
       "       ...,\n",
       "       [0., 0., 1.],\n",
       "       [0., 0., 1.],\n",
       "       [0., 0., 1.]], dtype=float32)"
      ]
     },
     "metadata": {},
     "output_type": "display_data"
    },
    {
     "data": {
      "text/plain": [
       "array([0., 1.], dtype=float32)"
      ]
     },
     "metadata": {},
     "output_type": "display_data"
    }
   ],
   "source": [
    "display(tl_faces['traffic_light_face_status'])\n",
    "display(np.unique(tl_faces['traffic_light_face_status']))"
   ]
  },
  {
   "cell_type": "code",
   "execution_count": null,
   "metadata": {},
   "outputs": [],
   "source": []
  }
 ],
 "metadata": {
  "kernelspec": {
   "display_name": "Python 3",
   "language": "python",
   "name": "python3"
  },
  "language_info": {
   "codemirror_mode": {
    "name": "ipython",
    "version": 3
   },
   "file_extension": ".py",
   "mimetype": "text/x-python",
   "name": "python",
   "nbconvert_exporter": "python",
   "pygments_lexer": "ipython3",
   "version": "3.8.3"
  }
 },
 "nbformat": 4,
 "nbformat_minor": 4
}
